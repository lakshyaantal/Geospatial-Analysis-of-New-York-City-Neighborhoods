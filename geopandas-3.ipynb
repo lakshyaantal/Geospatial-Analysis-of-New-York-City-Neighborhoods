{
 "cells": [
  {
   "cell_type": "markdown",
   "metadata": {},
   "source": [
    "# Loading Geospatial Data with GeoPandas: Supported Data Types"
   ]
  },
  {
   "cell_type": "code",
   "execution_count": 1,
   "metadata": {},
   "outputs": [],
   "source": [
    "# Import necessary libraries\n",
    "import geopandas as gpd\n",
    "import pandas as pd"
   ]
  },
  {
   "cell_type": "code",
   "execution_count": null,
   "metadata": {},
   "outputs": [],
   "source": [
    "\n",
    "shapefile = \"data/Pedestrian Zone Shapefile (Tabular)_20241220/geo_export_a7bb075a-41dc-445f-8244-8430e90a8dde.shp\"\n",
    "shapefile_gdf = gpd.read_file(shapefile)\n",
    "shapefile_gdf.head()"
   ]
  },
  {
   "cell_type": "code",
   "execution_count": null,
   "metadata": {},
   "outputs": [],
   "source": [
    "shapefile_gdf.explore()"
   ]
  },
  {
   "cell_type": "code",
   "execution_count": 4,
   "metadata": {},
   "outputs": [],
   "source": [
    "geojson_fp = \"https://raw.githubusercontent.com/HodgesWardElliott/custom-nyc-neighborhoods/refs/heads/master/custom-pedia-cities-nyc-Mar2018.geojson\"\n",
    "geojson_gdf = gpd.read_file(geojson_fp)"
   ]
  },
  {
   "cell_type": "code",
   "execution_count": null,
   "metadata": {},
   "outputs": [],
   "source": [
    "geojson_gdf.explore()"
   ]
  },
  {
   "cell_type": "code",
   "execution_count": null,
   "metadata": {},
   "outputs": [],
   "source": [
    "gpkg_fp = \"https://ngageoint.github.io/GeoPackage/examples/rivers.gpkg\"\n",
    "gpkg_gdf = gpd.read_file(gpkg_fp)\n",
    "gpkg_gdf.explore()"
   ]
  },
  {
   "cell_type": "code",
   "execution_count": null,
   "metadata": {},
   "outputs": [],
   "source": [
    "fgb_fp = \"https://github.com/flatgeobuf/flatgeobuf/raw/refs/heads/master/test/data/UScounties.fgb\"\n",
    "fgb_gdf = gpd.read_file(fgb_fp)\n",
    "fgb_gdf.explore()"
   ]
  },
  {
   "cell_type": "code",
   "execution_count": null,
   "metadata": {},
   "outputs": [],
   "source": [
    "import geopandas as gpd\n",
    "import pandas as pd\n",
    "from sqlalchemy import create_engine\n",
    "import duckdb\n",
    "\n",
    "\n",
    "# Define PostGIS connection parameters\n",
    "host = \"your_host\"           # e.g., \"localhost\" or your database IP\n",
    "database = \"your_database\"   # Database name\n",
    "user = \"your_user\"           # Username\n",
    "password = \"your_password\"   # Password\n",
    "port = \"5432\"                # Default PostgreSQL port\n",
    "\n",
    "# SQLAlchemy connection string for PostGIS\n",
    "postgis_connection = f\"postgresql://{user}:{password}@{host}:{port}/{database}\"\n",
    "\n",
    "# Create SQLAlchemy engine\n",
    "engine = create_engine(postgis_connection)\n",
    "\n",
    "# Define SQL query to read spatial data\n",
    "# Replace 'your_table_name' with the actual table containing spatial data\n",
    "query = \"SELECT * FROM your_table_name\"\n",
    "\n",
    "# Load the PostGIS table into a GeoDataFrame\n",
    "postgis_gdf = gpd.read_postgis(query, con=engine, geom_col=\"geometry\", crs=\"EPSG:4326\")\n",
    "\n",
    "postgis_gdf.head()"
   ]
  },
  {
   "cell_type": "code",
   "execution_count": null,
   "metadata": {},
   "outputs": [],
   "source": [
    "pip install duckdb -q"
   ]
  },
  {
   "cell_type": "code",
   "execution_count": 9,
   "metadata": {},
   "outputs": [],
   "source": [
    "import duckdb\n",
    "\n",
    "# Initialize a DuckDB connection\n",
    "con = duckdb.connect()"
   ]
  },
  {
   "cell_type": "code",
   "execution_count": 10,
   "metadata": {},
   "outputs": [],
   "source": [
    "con.query('INSTALL spatial')\n",
    "con.query('LOAD spatial')"
   ]
  },
  {
   "cell_type": "code",
   "execution_count": 11,
   "metadata": {},
   "outputs": [],
   "source": [
    "\n",
    "# Define a DuckDB SQL query\n",
    "# Replace \"your_table\" with the table or query containing lat/lon or WKT geometry\n",
    "duckdb_query = \"\"\"\n",
    "SELECT *, ST_AsText(ST_Point(column09, column08)) as geometry\n",
    "FROM read_csv('https://s3.amazonaws.com/tripdata/202406-citibike-tripdata.zip', ignore_errors=true)\n",
    "\"\"\"\n"
   ]
  },
  {
   "cell_type": "code",
   "execution_count": null,
   "metadata": {},
   "outputs": [],
   "source": [
    "\n",
    "# Execute DuckDB query and convert to a Pandas DataFrame\n",
    "duckdb_df = con.query(duckdb_query).to_df()"
   ]
  },
  {
   "cell_type": "code",
   "execution_count": null,
   "metadata": {},
   "outputs": [],
   "source": [
    "duckdb_df.head(5)"
   ]
  },
  {
   "cell_type": "code",
   "execution_count": 13,
   "metadata": {},
   "outputs": [],
   "source": [
    "duckdb_gdf = gpd.GeoDataFrame(\n",
    "    duckdb_df,\n",
    "    geometry=gpd.GeoSeries.from_wkt(duckdb_df[\"geometry\"]),\n",
    "    crs=\"EPSG:4326\"\n",
    ")"
   ]
  },
  {
   "cell_type": "code",
   "execution_count": null,
   "metadata": {},
   "outputs": [],
   "source": [
    "duckdb_gdf.info()"
   ]
  },
  {
   "cell_type": "code",
   "execution_count": null,
   "metadata": {},
   "outputs": [],
   "source": [
    "duckdb_gdf.head(100).explore()"
   ]
  },
  {
   "cell_type": "code",
   "execution_count": 17,
   "metadata": {},
   "outputs": [],
   "source": [
    "nbh_query = \"\"\"\n",
    "SELECT *\n",
    "FROM ST_Read('https://raw.githubusercontent.com/HodgesWardElliott/custom-nyc-neighborhoods/refs/heads/master/custom-pedia-cities-nyc-Mar2018.geojson')\n",
    "limit 10\n",
    "\"\"\""
   ]
  },
  {
   "cell_type": "code",
   "execution_count": null,
   "metadata": {},
   "outputs": [],
   "source": [
    "duckdb_df = con.query(nbh_query).to_df()\n",
    "duckdb_df.head(5)"
   ]
  },
  {
   "cell_type": "code",
   "execution_count": 19,
   "metadata": {},
   "outputs": [],
   "source": [
    "nbh_query = \"\"\"\n",
    "SELECT \n",
    "    count(b.column00) as count,\n",
    "    n.neighborhood,\n",
    "    ST_AsText(n.geom) as geom\n",
    "FROM \n",
    "    ST_Read('https://raw.githubusercontent.com/HodgesWardElliott/custom-nyc-neighborhoods/refs/heads/master/custom-pedia-cities-nyc-Mar2018.geojson') n\n",
    "JOIN \n",
    "    read_csv('https://s3.amazonaws.com/tripdata/202406-citibike-tripdata.zip', ignore_errors=true) b\n",
    "ON \n",
    "    ST_Intersects(n.geom, ST_Point(column09, column08))\n",
    "WHERE \n",
    "    CAST(column02 AS DATE) = DATE '2024-06-15'\n",
    "GROUP BY \n",
    "    n.neighborhood, n.geom\n",
    "\"\"\""
   ]
  },
  {
   "cell_type": "code",
   "execution_count": null,
   "metadata": {},
   "outputs": [],
   "source": [
    "nbh_df = con.query(nbh_query).to_df()"
   ]
  },
  {
   "cell_type": "code",
   "execution_count": 21,
   "metadata": {},
   "outputs": [],
   "source": [
    "join_gdf = gpd.GeoDataFrame(\n",
    "    nbh_df,\n",
    "    geometry=gpd.GeoSeries.from_wkt(nbh_df[\"geom\"]),\n",
    "    crs=\"EPSG:4326\"\n",
    ")"
   ]
  },
  {
   "cell_type": "code",
   "execution_count": null,
   "metadata": {},
   "outputs": [],
   "source": [
    "join_gdf.head()"
   ]
  },
  {
   "cell_type": "code",
   "execution_count": null,
   "metadata": {},
   "outputs": [],
   "source": [
    "join_gdf.explore()"
   ]
  },
  {
   "cell_type": "code",
   "execution_count": null,
   "metadata": {},
   "outputs": [],
   "source": [
    "gdf = gpd.read_parquet('data/es_cn.parquet')\n",
    "gdf.info()"
   ]
  },
  {
   "cell_type": "code",
   "execution_count": null,
   "metadata": {},
   "outputs": [],
   "source": [
    "gdf.head(100).explore()"
   ]
  },
  {
   "cell_type": "code",
   "execution_count": null,
   "metadata": {},
   "outputs": [],
   "source": []
  }
 ],
 "metadata": {
  "kernelspec": {
   "display_name": "Python 3",
   "language": "python",
   "name": "python3"
  },
  "language_info": {
   "codemirror_mode": {
    "name": "ipython",
    "version": 3
   },
   "file_extension": ".py",
   "mimetype": "text/x-python",
   "name": "python",
   "nbconvert_exporter": "python",
   "pygments_lexer": "ipython3",
   "version": "3.12.6"
  }
 },
 "nbformat": 4,
 "nbformat_minor": 2
}
